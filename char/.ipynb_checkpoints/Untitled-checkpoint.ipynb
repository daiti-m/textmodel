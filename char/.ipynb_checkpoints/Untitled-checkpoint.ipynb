{
 "cells": [
  {
   "cell_type": "code",
   "execution_count": 3,
   "metadata": {},
   "outputs": [
    {
     "name": "stdout",
     "output_type": "stream",
     "text": [
      "['環', '礁']\n",
      "['―', '―', 'ミ', 'ク', 'ロ', 'ネ', 'シ', 'ヤ', '巡', '島', '記', '抄', '―', '―']\n",
      "['中', '島', '敦']\n",
      "['寂', 'し', 'い', '島']\n",
      "['寂', 'し', 'い', '島', 'だ', '。']\n"
     ]
    }
   ],
   "source": [
    "with open ('kansho.txt', 'r') as f:\n",
    "    for line in f:\n",
    "        s = line.rstrip('\\n')\n",
    "        words = [c for c in s]\n",
    "        print (words)"
   ]
  },
  {
   "cell_type": "code",
   "execution_count": null,
   "metadata": {},
   "outputs": [],
   "source": []
  }
 ],
 "metadata": {
  "kernelspec": {
   "display_name": "Python 3",
   "language": "python",
   "name": "python3"
  },
  "language_info": {
   "codemirror_mode": {
    "name": "ipython",
    "version": 3
   },
   "file_extension": ".py",
   "mimetype": "text/x-python",
   "name": "python",
   "nbconvert_exporter": "python",
   "pygments_lexer": "ipython3",
   "version": "3.8.3"
  }
 },
 "nbformat": 4,
 "nbformat_minor": 4
}
